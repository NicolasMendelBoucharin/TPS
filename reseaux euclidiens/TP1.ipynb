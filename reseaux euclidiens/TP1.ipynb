{
 "cells": [
  {
   "cell_type": "markdown",
   "id": "ba6d7688",
   "metadata": {},
   "source": [
    "# TP"
   ]
  },
  {
   "cell_type": "markdown",
   "id": "ae8cbc57",
   "metadata": {},
   "source": [
    "## Exercice 1 :"
   ]
  },
  {
   "cell_type": "code",
   "execution_count": 122,
   "id": "d4e18d73",
   "metadata": {},
   "outputs": [
    {
     "name": "stdout",
     "output_type": "stream",
     "text": [
      "A= [-1 -1  1 -1]\n",
      "[ 0  0 -1  0]\n",
      "[-1  0  0 -1]\n",
      "[ 0  7 -2  2]\n",
      "\n",
      "v =(-2, -370, 1, 1)\n",
      "\n",
      "w = (934, 373, 370, -935)\n",
      "\n",
      "A*w =(-2, -370, 1, 1)\n"
     ]
    },
    {
     "data": {
      "text/plain": [
       "True"
      ]
     },
     "execution_count": 122,
     "metadata": {},
     "output_type": "execute_result"
    }
   ],
   "source": [
    "A = random_matrix(ZZ, 4, 4)\n",
    "v=random_vector(ZZ, 4)\n",
    "w=A.solve_right(v)\n",
    "print(f\"A= {A}\\n\")\n",
    "print(f\"v ={v}\\n\")\n",
    "print(f\"w = {w}\\n\")\n",
    "print(f\"A*w ={A*w}\")\n",
    "\n",
    "def testreseaux(A, v):\n",
    "    if rank(A)!= len(A[0]):\n",
    "        print(\"pas possible\")\n",
    "        return False\n",
    "    w=A.solve_right(v)\n",
    "    for wi in w:\n",
    "        if wi not in ZZ:\n",
    "            return False\n",
    "    return True\n",
    "\n",
    "testreseaux(A,v)\n"
   ]
  },
  {
   "cell_type": "code",
   "execution_count": 164,
   "id": "7dc210e8",
   "metadata": {},
   "outputs": [
    {
     "name": "stdout",
     "output_type": "stream",
     "text": [
      "B1 = [  0   0 -10   1]\n",
      "[ -2 -41  -6  -1]\n",
      "[ -5   1  -2  -1]\n",
      "[ -2   0  -1   0]\n",
      "\n",
      "B2 = [ 1  4  1  0]\n",
      "[-1  1  9  0]\n",
      "[-2 -1  3  6]\n",
      "[ 1  0 -1  1] \n",
      "\n",
      "[1 0 0 0 0 0 0 0]\n",
      "[0 1 0 0 0 0 0 0]\n",
      "[0 0 1 0 0 0 0 0]\n",
      "[0 0 0 1 0 0 0 0]\n",
      "[1]\n",
      "[0]\n",
      "[0]\n",
      "[0]\n",
      "[0]\n",
      "[1]\n",
      "[0]\n",
      "[0]\n",
      "[0]\n",
      "[0]\n",
      "[1]\n",
      "[0]\n",
      "[0]\n",
      "[0]\n",
      "[0]\n",
      "[1]\n",
      "[0]\n",
      "[0]\n",
      "[0]\n",
      "[0]\n",
      "[0]\n",
      "[0]\n",
      "[0]\n",
      "[0]\n",
      "[0]\n",
      "[0]\n",
      "[0]\n",
      "[0]\n",
      "[0]\n",
      "[0]\n",
      "[0]\n",
      "[0]\n"
     ]
    },
    {
     "ename": "IndexError",
     "evalue": "matrix index out of range",
     "output_type": "error",
     "traceback": [
      "\u001b[0;31m---------------------------------------------------------------------------\u001b[0m",
      "\u001b[0;31mIndexError\u001b[0m                                Traceback (most recent call last)",
      "Cell \u001b[0;32mIn[164], line 18\u001b[0m\n\u001b[1;32m     16\u001b[0m \u001b[38;5;28mprint\u001b[39m(\u001b[38;5;124mf\u001b[39m\u001b[38;5;124m\"\u001b[39m\u001b[38;5;124mB1 = \u001b[39m\u001b[38;5;132;01m{\u001b[39;00mB1\u001b[38;5;132;01m}\u001b[39;00m\u001b[38;5;130;01m\\n\u001b[39;00m\u001b[38;5;124m\"\u001b[39m)\n\u001b[1;32m     17\u001b[0m \u001b[38;5;28mprint\u001b[39m(\u001b[38;5;124mf\u001b[39m\u001b[38;5;124m\"\u001b[39m\u001b[38;5;124mB2 = \u001b[39m\u001b[38;5;132;01m{\u001b[39;00mB2\u001b[38;5;132;01m}\u001b[39;00m\u001b[38;5;124m \u001b[39m\u001b[38;5;130;01m\\n\u001b[39;00m\u001b[38;5;124m\"\u001b[39m)\n\u001b[0;32m---> 18\u001b[0m \u001b[38;5;28mprint\u001b[39m(\u001b[38;5;124mf\u001b[39m\u001b[38;5;124m\"\u001b[39m\u001b[38;5;124mBase de la somme : \u001b[39m\u001b[38;5;132;01m{\u001b[39;00mbasesomme(B1,\u001b[38;5;250m \u001b[39mB2)\u001b[38;5;132;01m}\u001b[39;00m\u001b[38;5;124m\"\u001b[39m)\n",
      "Cell \u001b[0;32mIn[164], line 8\u001b[0m, in \u001b[0;36mbasesomme\u001b[0;34m(B1, B2)\u001b[0m\n\u001b[1;32m      6\u001b[0m compteuravant0\u001b[38;5;241m=\u001b[39mInteger(\u001b[38;5;241m0\u001b[39m)\n\u001b[1;32m      7\u001b[0m \u001b[38;5;28mprint\u001b[39m(H)\n\u001b[0;32m----> 8\u001b[0m \u001b[38;5;28;01mwhile\u001b[39;00m(\u001b[43mH\u001b[49m\u001b[43m[\u001b[49m\u001b[43m:\u001b[49m\u001b[43m,\u001b[49m\u001b[43mcompteuravant0\u001b[49m\u001b[43m]\u001b[49m \u001b[38;5;241m!=\u001b[39m matrix(ZZ, [Integer(\u001b[38;5;241m0\u001b[39m)]\u001b[38;5;241m*\u001b[39mn)):\n\u001b[1;32m      9\u001b[0m     \u001b[38;5;28mprint\u001b[39m(H[:,compteuravant0])\n\u001b[1;32m     10\u001b[0m     compteuravant0 \u001b[38;5;241m+\u001b[39m\u001b[38;5;241m=\u001b[39m Integer(\u001b[38;5;241m1\u001b[39m) \n",
      "File \u001b[0;32m~/miniforge3/envs/sage/lib/python3.9/site-packages/sage/matrix/matrix0.pyx:1031\u001b[0m, in \u001b[0;36msage.matrix.matrix0.Matrix.__getitem__ (build/cythonized/sage/matrix/matrix0.c:12152)\u001b[0;34m()\u001b[0m\n\u001b[1;32m   1029\u001b[0m     col += ncols\n\u001b[1;32m   1030\u001b[0m if col < 0 or col >= ncols:\n\u001b[0;32m-> 1031\u001b[0m     raise IndexError(\"matrix index out of range\")\n\u001b[1;32m   1032\u001b[0m single_col = 1\n\u001b[1;32m   1033\u001b[0m \n",
      "\u001b[0;31mIndexError\u001b[0m: matrix index out of range"
     ]
    }
   ],
   "source": [
    "def basesomme(B1, B2):\n",
    "    B = B1.augment(B2)\n",
    "    H, _ = B.transpose().hermite_form(transformation=True)\n",
    "    H=H.transpose()\n",
    "    n=B.nrows()\n",
    "    compteuravant0=0\n",
    "    print(H)\n",
    "    while(H[:,compteuravant0] != matrix(ZZ, [0]*n)):\n",
    "        print(H[:,compteuravant0])\n",
    "        compteuravant0 += 1 \n",
    "    return H[:, :compteuravant0]\n",
    "\n",
    "\n",
    "B1=random_matrix(ZZ, 4, 4)\n",
    "B2=random_matrix(ZZ, 4, 4)\n",
    "print(f\"B1 = {B1}\\n\")\n",
    "print(f\"B2 = {B2} \\n\")\n",
    "print(f\"Base de la somme : {basesomme(B1, B2)}\")\n",
    "\n"
   ]
  },
  {
   "cell_type": "code",
   "execution_count": 38,
   "id": "4a41f25a",
   "metadata": {},
   "outputs": [
    {
     "data": {
      "text/plain": [
       "[1 0 0 0]\n",
       "[0 1 0 0]\n",
       "[0 0 1 0]\n",
       "[0 0 0 1]\n",
       "[0 0 0 0]\n",
       "[0 0 0 0]\n",
       "[0 0 0 0]\n",
       "[0 0 0 0]"
      ]
     },
     "execution_count": 38,
     "metadata": {},
     "output_type": "execute_result"
    }
   ],
   "source": [
    "B = B1.augment(B2)\n",
    "B.transpose().echelon_form(transformation=False)"
   ]
  },
  {
   "cell_type": "code",
   "execution_count": 141,
   "id": "1111d38d",
   "metadata": {},
   "outputs": [
    {
     "name": "stdout",
     "output_type": "stream",
     "text": [
      "[ -1  -4   1 -11]\n",
      "[ -1   1   1   2]\n",
      "[ -7   2   1   2]\n",
      "[ -3   5   0   0]\n",
      "[  1   0   0   0]\n",
      "[  0   1   0   0]\n",
      "[  0   0   1   0]\n",
      "[ 81 211  59 351]\n",
      "[  1   0   0  81]\n",
      "[  0   1   0 211]\n",
      "[  0   0   1  59]\n",
      "[  0   0   0 351]\n"
     ]
    }
   ],
   "source": [
    "def basedual(B):\n",
    "    Bdual=B.inverse().transpose()\n",
    "    return(Bdual)\n",
    "\n",
    "\n",
    "def baseintersect(B1, B2):\n",
    "    Binter=basedual(basesomme(basedual(B1), basedual(B2)))\n",
    "    return(Binter)\n",
    "\n",
    "B1=random_matrix(ZZ, 4, 4)\n",
    "B2=random_matrix(ZZ, 4, 4)\n",
    "print(B1)\n",
    "print(B1.transpose().hermite_form().transpose())\n",
    "#print(B2)\n",
    "print(basesomme(B1, B1))"
   ]
  },
  {
   "cell_type": "code",
   "execution_count": 145,
   "id": "d018abd3",
   "metadata": {},
   "outputs": [
    {
     "name": "stdout",
     "output_type": "stream",
     "text": [
      "[   2/13       0       0       0       0       0       0       0]\n",
      "[353/351     1/9       0       0       0       0       0       0]\n",
      "[-56/351    -1/9     1/2       0       0       0       0       0]\n",
      "[ -5/351     2/9    -7/6    -1/3       0       0       0       0]\n",
      "skjfd\n"
     ]
    },
    {
     "data": {
      "text/plain": [
       "[   2/13 353/351 -56/351  -5/351]\n",
       "[      0     1/9    -1/9     2/9]\n",
       "[      0       0     1/2    -7/6]\n",
       "[      0       0       0    -1/3]"
      ]
     },
     "execution_count": 145,
     "metadata": {},
     "output_type": "execute_result"
    }
   ],
   "source": [
    "D1 = basedual(B1)\n",
    "D2 = basedual(2*B1)\n",
    "B = D1.augment(D2)\n",
    "print(B.transpose().hermite_form().transpose())\n",
    "print('skjfd')\n",
    "basesomme(D1,D2)"
   ]
  },
  {
   "cell_type": "code",
   "execution_count": 158,
   "id": "eb9de20a",
   "metadata": {},
   "outputs": [
    {
     "name": "stdout",
     "output_type": "stream",
     "text": [
      "b1 = (0, 3, -2, -1)\n",
      "\n",
      "b2 = (-1, 1, 0, 4)\n",
      "\n",
      "La nouvelle base est ((0, 3, -2, -1), (-1, 1, 0, 4))\n",
      "\n"
     ]
    }
   ],
   "source": [
    "def Gausslagrange(b1, b2):\n",
    "    while norm(b1)<norm(b2):\n",
    "        mu=round((b1*b2)/(norm(b1)**2))\n",
    "        u=b2-mu*b1\n",
    "        b2=b1\n",
    "        b1=u\n",
    "    return(b2, b1)\n",
    "\n",
    "b1=random_vector(ZZ, 4)\n",
    "b2=random_vector(ZZ, 4)\n",
    "print(f\"b1 = {b1}\\n\")\n",
    "print(f\"b2 = {b2}\\n\")\n",
    "print(f\"La nouvelle base est {Gausslagrange(b1, b2)}\\n\")"
   ]
  },
  {
   "cell_type": "markdown",
   "id": "6fc771f9",
   "metadata": {},
   "source": [
    "## Exercice 2\n",
    "\n",
    "### 1.\n"
   ]
  },
  {
   "cell_type": "code",
   "execution_count": 165,
   "id": "43c6e727",
   "metadata": {},
   "outputs": [
    {
     "name": "stdout",
     "output_type": "stream",
     "text": [
      "[1 1]\n",
      "[1 2]\n"
     ]
    },
    {
     "ename": "IndexError",
     "evalue": "matrix index out of range",
     "output_type": "error",
     "traceback": [
      "\u001b[0;31m---------------------------------------------------------------------------\u001b[0m",
      "\u001b[0;31mIndexError\u001b[0m                                Traceback (most recent call last)",
      "Cell \u001b[0;32mIn[165], line 13\u001b[0m\n\u001b[1;32m     11\u001b[0m B\u001b[38;5;241m=\u001b[39mMatrix([[Integer(\u001b[38;5;241m1\u001b[39m),Integer(\u001b[38;5;241m1\u001b[39m)],[Integer(\u001b[38;5;241m1\u001b[39m),Integer(\u001b[38;5;241m2\u001b[39m)]])\n\u001b[1;32m     12\u001b[0m \u001b[38;5;28mprint\u001b[39m(B)\n\u001b[0;32m---> 13\u001b[0m \u001b[38;5;28mprint\u001b[39m(\u001b[43msizereduction\u001b[49m\u001b[43m(\u001b[49m\u001b[43mB\u001b[49m\u001b[43m)\u001b[49m)\n",
      "Cell \u001b[0;32mIn[165], line 7\u001b[0m, in \u001b[0;36msizereduction\u001b[0;34m(B)\u001b[0m\n\u001b[1;32m      5\u001b[0m     \u001b[38;5;28;01mfor\u001b[39;00m j \u001b[38;5;129;01min\u001b[39;00m \u001b[38;5;28mrange\u001b[39m(Integer(\u001b[38;5;241m1\u001b[39m), i):\n\u001b[1;32m      6\u001b[0m         k\u001b[38;5;241m=\u001b[39mi\u001b[38;5;241m-\u001b[39mj\n\u001b[0;32m----> 7\u001b[0m         mu\u001b[38;5;241m=\u001b[39m(\u001b[43mB\u001b[49m\u001b[43m[\u001b[49m\u001b[43mi\u001b[49m\u001b[43m]\u001b[49m\u001b[38;5;241m*\u001b[39mBgm[k]\u001b[38;5;241m/\u001b[39mnorm(Bgm[k])\u001b[38;5;241m*\u001b[39m\u001b[38;5;241m*\u001b[39mInteger(\u001b[38;5;241m2\u001b[39m))\n\u001b[1;32m      8\u001b[0m         B[i]\u001b[38;5;241m=\u001b[39mB[i]\u001b[38;5;241m-\u001b[39m\u001b[38;5;28mround\u001b[39m(mu)\u001b[38;5;241m*\u001b[39mB(k)\n\u001b[1;32m      9\u001b[0m \u001b[38;5;28;01mreturn\u001b[39;00m B\n",
      "File \u001b[0;32m~/miniforge3/envs/sage/lib/python3.9/site-packages/sage/matrix/matrix0.pyx:1083\u001b[0m, in \u001b[0;36msage.matrix.matrix0.Matrix.__getitem__ (build/cythonized/sage/matrix/matrix0.c:12889)\u001b[0;34m()\u001b[0m\n\u001b[1;32m   1081\u001b[0m     row += nrows\n\u001b[1;32m   1082\u001b[0m if row < 0 or row >= nrows:\n\u001b[0;32m-> 1083\u001b[0m     raise IndexError(\"matrix index out of range\")\n\u001b[1;32m   1084\u001b[0m r = self.row(row)\n\u001b[1;32m   1085\u001b[0m \n",
      "\u001b[0;31mIndexError\u001b[0m: matrix index out of range"
     ]
    }
   ],
   "source": [
    "def sizereduction(B):\n",
    "    Bgm = B.gram_schmidt()\n",
    "    n=B.nrows()\n",
    "    for i in range(2, n+1):\n",
    "        for j in range(1, i):\n",
    "            k=i-j\n",
    "            mu=(B[i]*Bgm[k]/norm(Bgm[k])**2)\n",
    "            B[i]=B[i]-round(mu)*B(k)\n",
    "    return B\n",
    "\n",
    "B=Matrix([[1,1],[1,2]])\n",
    "print(B)\n",
    "print(sizereduction(B))"
   ]
  },
  {
   "cell_type": "code",
   "execution_count": null,
   "id": "0e790790",
   "metadata": {},
   "outputs": [],
   "source": []
  }
 ],
 "metadata": {
  "kernelspec": {
   "display_name": "SageMath 10.4",
   "language": "sage",
   "name": "sagemath"
  },
  "language_info": {
   "codemirror_mode": {
    "name": "ipython",
    "version": 3
   },
   "file_extension": ".py",
   "mimetype": "text/x-python",
   "name": "sage",
   "nbconvert_exporter": "python",
   "pygments_lexer": "ipython3",
   "version": "3.9.21"
  }
 },
 "nbformat": 4,
 "nbformat_minor": 5
}
